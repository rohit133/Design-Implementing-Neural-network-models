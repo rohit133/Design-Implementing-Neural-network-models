{
  "nbformat": 4,
  "nbformat_minor": 0,
  "metadata": {
    "colab": {
      "name": "LVQipynb",
      "provenance": []
    },
    "kernelspec": {
      "name": "python3",
      "display_name": "Python 3"
    },
    "language_info": {
      "name": "python"
    }
  },
  "cells": [
    {
      "cell_type": "code",
      "metadata": {
        "id": "q1PCIa17FsnE"
      },
      "source": [
        "import pandas as pd\n",
        "import math\n",
        "from sklearn.datasets import load_iris\n",
        "iris=load_iris()\n",
        "df= pd.DataFrame(iris.data, columns=iris.feature_names)"
      ],
      "execution_count": 11,
      "outputs": []
    },
    {
      "cell_type": "code",
      "metadata": {
        "id": "4Vbkd6vyFyoc"
      },
      "source": [
        "class LVQ : \n",
        "      \n",
        "# Function here computes the winning vector by Euclidean distance\n",
        "    def winner( self, weights, sample ) :\n",
        "          \n",
        "        D0 = 0\n",
        "        D1 = 0\n",
        "        D2 = 0\n",
        "          \n",
        "        for i  in range( len( sample ) ) :\n",
        "            D0 = D0 + math.pow( ( sample[i] - weights[0][i] ), 2 )\n",
        "            D1 = D1 + math.pow( ( sample[i] - weights[1][i] ), 2 )\n",
        "            D2 = D2 + math.pow( ( sample[i] - weights[2][i] ), 2 )\n",
        "        #print(\"Euclidean distance from W1= \",D0)\n",
        "        #print(\"Euclidean distance from W2= \",D1) \n",
        "        #print(\"Euclidean distance from W3= \",D2) \n",
        "        if D0==min(D0,D1,D2) :\n",
        "            return 0\n",
        "        elif D1==min(D0,D1,D2): \n",
        "            return 1\n",
        "        else:\n",
        "            return 2\n",
        "  \n",
        "    # Function here updates the winning vector     \n",
        "    def update( self, weights, sample, J, alpha ) :\n",
        "        for i in range(len(weights)) :\n",
        "            weights[J][i] = weights[J][i] + alpha * ( sample[i] - weights[J][i] ) \n",
        "        #print(\"Updated Weights =\", weights,\"\\n\")"
      ],
      "execution_count": 12,
      "outputs": []
    },
    {
      "cell_type": "code",
      "metadata": {
        "id": "-PEXw9bYF3Hk"
      },
      "source": [
        "def main() :\n",
        "  \n",
        "    # Training Samples ( m, n ) with their class vector\n",
        "    X =  df.values.tolist()\n",
        "    Y = iris.target.tolist()\n",
        "    m, n = len( X ), len( X[0] )\n",
        "      \n",
        "    # weight initialization ( n, c )\n",
        "    weights = []\n",
        "    weights.append( X.pop( 0 ) )\n",
        "    weights.append( X.pop( 50) )\n",
        "    weights.append( X.pop( 100 ) )\n",
        "    Y.pop(0)\n",
        "    Y.pop(50)\n",
        "    Y.pop(100)\n",
        "  \n",
        "  \n",
        "  \n",
        "    # Samples used in weight initialization will\n",
        "    # not use in training\n",
        "    m = m - 3\n",
        "      \n",
        "    # training\n",
        "    ob = LVQ()\n",
        "    epochs = 100\n",
        "    alpha = 0.1\n",
        "      \n",
        "    for i in range( epochs ) :\n",
        "        for j in range( m ) :\n",
        "              \n",
        "            # Sample selection\n",
        "            T = X[j]\n",
        "              \n",
        "            # Compute winner\n",
        "            J = ob.winner( weights, T )\n",
        "          \n",
        "            # Update weights\n",
        "            if Y[j]==J:  \n",
        "                ob.update( weights, T, J, alpha )\n",
        "            else:\n",
        "                ob.update( weights, T, J, -1*alpha )\n",
        "              \n",
        "    # classify new input sample\n",
        "    T = [ 5.0, 3.6, 1.4, 0.2 ]\n",
        "    J = ob.winner( weights, T )\n",
        "    print(\"Input sample T:\",T)\n",
        "    print(\"\\n\\n Sample T belongs to class : \", J )\n",
        "    print( \"\\n\\n Trained weights : \", weights )"
      ],
      "execution_count": 13,
      "outputs": []
    },
    {
      "cell_type": "code",
      "metadata": {
        "colab": {
          "base_uri": "https://localhost:8080/"
        },
        "id": "O5vJNaxwF5lx",
        "outputId": "e1680bde-2f07-40bc-ef63-0922d73d5067"
      },
      "source": [
        "main()"
      ],
      "execution_count": 14,
      "outputs": [
        {
          "output_type": "stream",
          "name": "stdout",
          "text": [
            "Input sample T: [5.0, 3.6, 1.4, 0.2]\n",
            "\n",
            "\n",
            " Sample T belongs to class :  0\n",
            "\n",
            "\n",
            " Trained weights :  [[4.957752976094494, 3.39143219786066, 1.465687392538483, 0.2], [5.798836871932601, 2.874293414830055, 3.6282438259249146, 1.5], [6.500591406720156, 3.0333513319866805, 5.407374970814891, 2.1]]\n"
          ]
        }
      ]
    },
    {
      "cell_type": "code",
      "metadata": {
        "id": "aoJmKMfIF-0I"
      },
      "source": [
        ""
      ],
      "execution_count": null,
      "outputs": []
    }
  ]
}