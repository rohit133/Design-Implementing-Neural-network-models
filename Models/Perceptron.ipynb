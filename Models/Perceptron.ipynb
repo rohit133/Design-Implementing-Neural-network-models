{
 "cells": [
  {
   "cell_type": "code",
   "execution_count": 12,
   "metadata": {},
   "outputs": [],
   "source": [
    "from sklearn.datasets import load_iris\n",
    "from sklearn.model_selection import train_test_split\n",
    "import numpy as np\n",
    "import matplotlib.pyplot as plt\n",
    "%matplotlib inline"
   ]
  },
  {
   "cell_type": "code",
   "execution_count": 16,
   "metadata": {},
   "outputs": [
    {
     "name": "stdout",
     "output_type": "stream",
     "text": [
      "['sepal length (cm)', 'sepal width (cm)', 'petal length (cm)', 'petal width (cm)']\n",
      "['setosa' 'versicolor' 'virginica']\n",
      "(150, 4) (150,)\n"
     ]
    }
   ],
   "source": [
    "iris = load_iris()\n",
    "print(iris.feature_names)\n",
    "print(iris.target_names)\n",
    "X = iris.data\n",
    "y = iris.target\n",
    "print(X.shape, y.shape)\n"
   ]
  },
  {
   "cell_type": "code",
   "execution_count": 17,
   "metadata": {},
   "outputs": [
    {
     "data": {
      "text/plain": [
       "array([0, 1, 2])"
      ]
     },
     "execution_count": 17,
     "metadata": {},
     "output_type": "execute_result"
    }
   ],
   "source": [
    "np.unique(y)"
   ]
  },
  {
   "cell_type": "code",
   "execution_count": 18,
   "metadata": {},
   "outputs": [],
   "source": [
    "test_case = np.where((y==0)|(y==1))\n",
    "X= X[test_case][:,[0,2]]\n",
    "y = y[test_case]\n",
    "print(np.unique(y))"
   ]
  },
  {
   "cell_type": "code",
   "execution_count": 23,
   "metadata": {},
   "outputs": [],
   "source": [
    "setosas = X[np.where(y==0)]\n",
    "versicolors = X[np.where(y==1)]"
   ]
  },
  {
   "cell_type": "code",
   "execution_count": 32,
   "metadata": {},
   "outputs": [
    {
     "data": {
      "image/png": "[encoded data removed]",
      "text/plain": [
       "<Figure size 432x288 with 1 Axes>"
      ]
     },
     "metadata": {
      "needs_background": "light"
     },
     "output_type": "display_data"
    }
   ],
   "source": [
    "plt.scatter(setosas[:,0], setosas[:,1], color='r',marker='o', label='setosa')\n",
    "plt.scatter(versicolors[:,0], versicolors[:,1], color='b',marker='x', label='versicolor')\n",
    "plt.xlabel('sepal length')\n",
    "plt.ylabel('petal length')\n",
    "plt.legend()\n",
    "plt.show();"
   ]
  },
  {
   "cell_type": "code",
   "execution_count": 27,
   "metadata": {},
   "outputs": [
    {
     "name": "stdout",
     "output_type": "stream",
     "text": [
      "(75, 2) (75,)\n",
      "(25, 2) (25,)\n"
     ]
    }
   ],
   "source": [
    "Xtrain,Xtest, ytrain,ytest = train_test_split(X,y,test_size=0.25, shuffle=True)\n",
    "print(Xtrain.shape, ytrain.shape)\n",
    "print(Xtest.shape, ytest.shape)"
   ]
  },
  {
   "cell_type": "code",
   "execution_count": 33,
   "metadata": {},
   "outputs": [],
   "source": [
    "import sys\n",
    "class Perceptron(object):\n",
    "  \"\"\"Perceptron classifier.\n",
    "    \n",
    "    Parameters\n",
    "    ------------\n",
    "    eta: float \n",
    "        Learning rate (between 0.0 and 1.0)\n",
    "    n_iter: int\n",
    "        Number of epochs, i.e., passes over the training dataset.\n",
    "        \n",
    "    Attributes\n",
    "    ------------\n",
    "    w_: 1d-array\n",
    "        Weights after fitting.\n",
    "    errors_: list\n",
    "        Number of misclassifications in every epoch.\n",
    "    random_state : int\n",
    "        The seed of the pseudo random number generator.\n",
    "  \"\"\"\n",
    "  def __init__(self, input_dim):\n",
    "    \"\"\"\n",
    "        instantiate a new Perceptron\n",
    "\n",
    "        :param learning_rate: coefficient used to tune the model\n",
    "        response to training data\n",
    "    \"\"\"\n",
    "    self.weights = np.random.normal(loc=0.0, scale=1.0, size=input_dim)\n",
    "    self.bias = np.random.normal(loc=0.0, scale=1.0, size=1)\n",
    "\n",
    "  def activation(self, pred):\n",
    "    \"\"\"Using Binary Step Activation function\"\"\"\n",
    "    return np.where(pred >= 0, 1, 0)\n",
    "\n",
    "  def predict(self, data):\n",
    "    \"\"\"Return class label after unit step\"\"\"\n",
    "\n",
    "    return self.activation(np.dot(data, self.weights.T))\n",
    "\n",
    "  def accuracy(self, features, targets):\n",
    "    \"\"\"Check the accuracy of the predictied features\"\"\"\n",
    "    predictions = self.predict(features)\n",
    "    return (predictions == targets).mean()\n",
    "\n",
    "\n",
    "  def train(self, xtrain, ytrain, xtest, ytest, epochs, lr=0.01):\n",
    "    \"\"\"Fit training data.\n",
    "\n",
    "        Parameters\n",
    "        ----------\n",
    "        X : array-like; shape = [n_samples, n_features]\n",
    "            Training vectors, where n_samples is the number of samples and\n",
    "            n_features is the number of features.\n",
    "        y : array-like; shape = [n_samples]\n",
    "            Target values, or labels.\n",
    "\n",
    "        Returns\n",
    "        -------\n",
    "        self : object\n",
    "\n",
    "    \"\"\"\n",
    "    losses = []\n",
    "    train_accuracies = []\n",
    "    test_accuracies = []\n",
    "    for e in range(1, epochs + 1):\n",
    "      epoch_loss = 0\n",
    "      predictions = []\n",
    "      for data, target in zip(xtrain, ytrain): \n",
    "        # Weight updation\n",
    "        pred = self.predict(data)\n",
    "        error = target - pred  # Calculating the error\n",
    "        update = lr * error  \n",
    "        epoch_loss += error ** 2 \n",
    "        self.weights += update * data # updating the weights \n",
    "        self.bias += update # updating the Bias\n",
    "        \n",
    "      train_acc = self.accuracy(xtrain, ytrain)\n",
    "      test_acc = self.accuracy(xtest, ytest)\n",
    "\n",
    "      train_accuracies.append(train_acc)\n",
    "      test_accuracies.append(test_acc)\n",
    "\n",
    "      losses.append(epoch_loss)\n",
    "\n",
    "      print(f\"\\rEpoch {e}/{epochs}, Loss : {epoch_loss}, Train Acc : {train_acc}, Test Acc : {test_acc}\", end=\"\")\n",
    "      sys.stdout.flush()\n",
    "      # clearing the Screen after every epochs\n",
    "    return {'losses': losses, 'train_acc': train_accuracies, 'test_acc': test_accuracies}"
   ]
  },
  {
   "cell_type": "code",
   "execution_count": 34,
   "metadata": {},
   "outputs": [
    {
     "name": "stdout",
     "output_type": "stream",
     "text": [
      "Epoch 350/350, Loss : 0, Train Acc : 1.0, Test Acc : 1.0"
     ]
    }
   ],
   "source": [
    "obj = Perceptron(input_dim=2)\n",
    "history = obj.train(Xtrain,ytrain, Xtest, ytest, epochs=350, lr=0.001)"
   ]
  },
  {
   "cell_type": "code",
   "execution_count": 30,
   "metadata": {},
   "outputs": [
    {
     "name": "stdout",
     "output_type": "stream",
     "text": [
      "[-0.00531366  0.00955285] [-1.71176403]\n"
     ]
    }
   ],
   "source": [
    "print(obj.weights,obj.bias)"
   ]
  },
  {
   "cell_type": "code",
   "execution_count": 35,
   "metadata": {},
   "outputs": [
    {
     "data": {
      "image/png": "[encoded data removed]",
      "text/plain": [
       "<Figure size 1080x360 with 2 Axes>"
      ]
     },
     "metadata": {
      "needs_background": "light"
     },
     "output_type": "display_data"
    }
   ],
   "source": [
    "fig = plt.figure(figsize=[15,5])\n",
    "\n",
    "ax1 = fig.add_subplot(121)\n",
    "ax1.plot(history['losses'], c='r')\n",
    "ax1.set_xlabel('epoch')\n",
    "ax1.set_ylabel('loss')\n",
    "\n",
    "ax2 = fig.add_subplot(122)\n",
    "ax2.plot(history['train_acc'], c='b', label='train_acc')\n",
    "ax2.plot(history['test_acc'], c='g', label='test_acc')\n",
    "ax2.legend()\n",
    "ax2.set_xlabel('epochs')\n",
    "ax2.set_ylabel('accuracy')\n",
    "plt.show();"
   ]
  },
  {
   "cell_type": "code",
   "execution_count": null,
   "metadata": {},
   "outputs": [],
   "source": []
  }
 ],
 "metadata": {
  "interpreter": {
   "hash": "c569cd2e17f62341e0f08a54f9a867c3c0d3a6f67454072d7de41a8b5dff8343"
  },
  "kernelspec": {
   "display_name": "Python 3.9.7 64-bit",
   "language": "python",
   "name": "python3"
  },
  "language_info": {
   "codemirror_mode": {
    "name": "ipython",
    "version": 3
   },
   "file_extension": ".py",
   "mimetype": "text/x-python",
   "name": "python",
   "nbconvert_exporter": "python",
   "pygments_lexer": "ipython3",
   "version": "3.9.7"
  },
  "orig_nbformat": 4
 },
 "nbformat": 4,
 "nbformat_minor": 2
}
