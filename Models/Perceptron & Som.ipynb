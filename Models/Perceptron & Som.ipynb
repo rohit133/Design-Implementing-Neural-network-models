{
 "cells": [
  {
   "cell_type": "code",
   "execution_count": 1,
   "metadata": {},
   "outputs": [],
   "source": [
    "import numpy as np\n",
    "import pandas as pd\n",
    "from sklearn.model_selection import train_test_split"
   ]
  },
  {
   "cell_type": "code",
   "execution_count": 2,
   "metadata": {},
   "outputs": [
    {
     "name": "stdout",
     "output_type": "stream",
     "text": [
      "(186, 5) (186,)\n",
      "(63,) (63,)\n"
     ]
    }
   ],
   "source": [
    "data = pd.read_csv('https://archive.ics.uci.edu/ml/machine-learning-databases/00476/buddymove_holidayiq.csv')\n",
    "features = ['Religious','Nature','Theatre','Shopping','Picnic']\n",
    "x = data[features]\n",
    "y = data.Sports\n",
    "\n",
    "# print(x)\n",
    "# print(y)\n",
    "\n",
    "xtrain,xtest, ytrain,ytest = train_test_split(x,y,test_size=0.25, shuffle=True)\n",
    "\n",
    "print(xtrain.shape, ytrain.shape)\n",
    "print(ytest.shape, ytest.shape)\n",
    "\n"
   ]
  },
  {
   "cell_type": "code",
   "execution_count": 3,
   "metadata": {},
   "outputs": [
    {
     "data": {
      "text/plain": [
       "0.07228915662650602"
      ]
     },
     "execution_count": 3,
     "metadata": {},
     "output_type": "execute_result"
    }
   ],
   "source": [
    "from sklearn.linear_model import Perceptron\n",
    "\n",
    "clf= Perceptron()\n",
    "clf.fit(xtrain, ytrain)\n",
    "clf.score(x,y)"
   ]
  },
  {
   "cell_type": "code",
   "execution_count": 4,
   "metadata": {},
   "outputs": [
    {
     "data": {
      "image/png": "[encoded data removed]",
      "text/plain": [
       "<Figure size 432x288 with 2 Axes>"
      ]
     },
     "metadata": {
      "needs_background": "light"
     },
     "output_type": "display_data"
    }
   ],
   "source": [
    "dataset=np.array(data)\n",
    "Z=dataset[:,2:]\n",
    "from sklearn.preprocessing import MinMaxScaler\n",
    "sc = MinMaxScaler(feature_range = (0,1))\n",
    "Z = sc.fit_transform(Z)\n",
    "from minisom import MiniSom\n",
    "som = MiniSom( x = 10, y = 10, input_len = 5, sigma = 1.0, learning_rate = 0.6)\n",
    "som.random_weights_init(Z)\n",
    "som.train_random(data = Z, num_iteration = 100)\n",
    "\n",
    "from pylab import bone, pcolor, colorbar, plot, show\n",
    "bone()\n",
    "pcolor(som.distance_map().T)\n",
    "colorbar()\n",
    "for i, x in enumerate(Z):\n",
    "    w = som.winner(x)\n",
    "    plot(w[0] + 0.5,\n",
    "         w[1] + 0.5,\n",
    "         markerfacecolor = 'None',\n",
    "         markersize = 10,\n",
    "         markeredgewidth = 2)\n",
    "show()"
   ]
  },
  {
   "cell_type": "code",
   "execution_count": null,
   "metadata": {},
   "outputs": [],
   "source": []
  },
  {
   "cell_type": "code",
   "execution_count": null,
   "metadata": {},
   "outputs": [],
   "source": []
  },
  {
   "cell_type": "code",
   "execution_count": null,
   "metadata": {},
   "outputs": [],
   "source": []
  },
  {
   "cell_type": "code",
   "execution_count": null,
   "metadata": {},
   "outputs": [],
   "source": []
  },
  {
   "cell_type": "code",
   "execution_count": null,
   "metadata": {},
   "outputs": [],
   "source": []
  },
  {
   "cell_type": "code",
   "execution_count": 3,
   "metadata": {},
   "outputs": [],
   "source": [
    "# xtrain = xtrain.astype('float64')\n",
    "# xtest = xtest.astype('float64')\n",
    "# ytrain = ytrain.astype('float64')\n",
    "# ytest = ytest.astype('float64')\n",
    "\n"
   ]
  },
  {
   "cell_type": "code",
   "execution_count": null,
   "metadata": {},
   "outputs": [],
   "source": [
    "np.array(xtrain, dtype=np.float32)\n",
    "np.array(xtrain,dtype=float)\n",
    "# for test case \n",
    "np.array(xtest, dtype=np.float32)\n",
    "np.array(xtest,dtype=float)\n",
    "\n",
    "\n",
    "\n",
    "#  for y\n",
    "np.array(ytrain, dtype=np.float32)\n",
    "np.array(ytrain,dtype=float)\n",
    "# for test case\n",
    "np.array(ytest, dtype=np.float32)\n",
    "np.array(ytest,dtype=float)\n",
    "\n"
   ]
  },
  {
   "cell_type": "code",
   "execution_count": 7,
   "metadata": {},
   "outputs": [],
   "source": [
    "import sys\n",
    "class Perceptron():\n",
    "\n",
    "    def __init__(self):\n",
    "        self.weights = np.random.normal(loc=0.0, scale=1.0, size=5)\n",
    "        self.bias  = np.random.normal(loc = 0.0, scale=1.0, size=1)\n",
    "    \n",
    "    def activation(self, pred):\n",
    "        \"\"\"Using Binary Step Activation function\"\"\"\n",
    "        return np.where(pred >= 0, 1, 0)\n",
    "\n",
    "    def predict(self, data):\n",
    "        \"\"\"Return class label after unit step\"\"\"\n",
    "        return self.activation(np.dot(data, self.weights))\n",
    "\n",
    "    def accuracy(self, features, targets):\n",
    "        \"\"\"Check the accuracy of the predictied features\"\"\"\n",
    "        predictions = self.predict(features)\n",
    "        return (predictions == targets).mean()\n",
    "    \n",
    "\n",
    "    def train(self, xtrain, ytrain, xtest, ytest, epochs, lr=0.01):\n",
    "        losses = []\n",
    "        train_accuracies = []\n",
    "        test_accuracies = []\n",
    "        for e in range(1, epochs + 1):\n",
    "            epoch_loss = 0\n",
    "\n",
    "            for data, target in zip(xtrain, ytrain): \n",
    "                # Weight updation\n",
    "                pred = self.predict(data)\n",
    "                error = target - pred  # Calculating the error\n",
    "                update = lr * error  \n",
    "                epoch_loss += error ** 2 \n",
    "                self.weights += update * data # updating the weights \n",
    "                self.bias += update # updating the Bias\n",
    "            \n",
    "            train_acc = self.accuracy(xtrain, ytrain)\n",
    "            test_acc = self.accuracy(xtest, ytest)\n",
    "\n",
    "            train_accuracies.append(train_acc)\n",
    "            test_accuracies.append(test_acc)\n",
    "\n",
    "            losses.append(epoch_loss)\n",
    "\n",
    "            print(f\"\\rEpoch {e}/{epochs}, Loss : {epoch_loss}, Train Acc : {train_acc}, Test Acc : {test_acc}\", end=\"\")\n",
    "            sys.stdout.flush()\n",
    "\n",
    "        return {'losses': losses, 'train_acc': train_accuracies, 'test_acc': test_accuracies}"
   ]
  },
  {
   "cell_type": "code",
   "execution_count": null,
   "metadata": {},
   "outputs": [],
   "source": [
    "model1 = Perceptron()\n",
    "train_case = model1.train(xtrain,ytrain,xtest,ytest, epochs=30, lr = 0.1)"
   ]
  }
 ],
 "metadata": {
  "interpreter": {
   "hash": "c569cd2e17f62341e0f08a54f9a867c3c0d3a6f67454072d7de41a8b5dff8343"
  },
  "kernelspec": {
   "display_name": "Python 3.9.7 64-bit",
   "language": "python",
   "name": "python3"
  },
  "language_info": {
   "codemirror_mode": {
    "name": "ipython",
    "version": 3
   },
   "file_extension": ".py",
   "mimetype": "text/x-python",
   "name": "python",
   "nbconvert_exporter": "python",
   "pygments_lexer": "ipython3",
   "version": "3.9.7"
  },
  "orig_nbformat": 4
 },
 "nbformat": 4,
 "nbformat_minor": 2
}
